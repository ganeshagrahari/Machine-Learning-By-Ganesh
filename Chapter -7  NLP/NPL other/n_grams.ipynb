{
 "cells": [
  {
   "cell_type": "markdown",
   "metadata": {},
   "source": [
    "# N grams "
   ]
  },
  {
   "cell_type": "code",
   "execution_count": 1,
   "metadata": {},
   "outputs": [],
   "source": [
    "X=\" I am Ganesh Agrhari I am a data scientist and artificial intelligence engineer I am a python developer I am a machine learning engineer I am a deep learning engineer I am a computer vision engineer I am a natural language processing engineer I am a data analyst I am a data engineer i am Ganesh Agrahari\" "
   ]
  },
  {
   "cell_type": "code",
   "execution_count": 2,
   "metadata": {},
   "outputs": [],
   "source": [
    "from nltk.tokenize import word_tokenize"
   ]
  },
  {
   "cell_type": "code",
   "execution_count": 3,
   "metadata": {},
   "outputs": [
    {
     "data": {
      "text/plain": [
       "['I',\n",
       " 'am',\n",
       " 'Ganesh',\n",
       " 'Agrhari',\n",
       " 'I',\n",
       " 'am',\n",
       " 'a',\n",
       " 'data',\n",
       " 'scientist',\n",
       " 'and',\n",
       " 'artificial',\n",
       " 'intelligence',\n",
       " 'engineer',\n",
       " 'I',\n",
       " 'am',\n",
       " 'a',\n",
       " 'python',\n",
       " 'developer',\n",
       " 'I',\n",
       " 'am',\n",
       " 'a',\n",
       " 'machine',\n",
       " 'learning',\n",
       " 'engineer',\n",
       " 'I',\n",
       " 'am',\n",
       " 'a',\n",
       " 'deep',\n",
       " 'learning',\n",
       " 'engineer',\n",
       " 'I',\n",
       " 'am',\n",
       " 'a',\n",
       " 'computer',\n",
       " 'vision',\n",
       " 'engineer',\n",
       " 'I',\n",
       " 'am',\n",
       " 'a',\n",
       " 'natural',\n",
       " 'language',\n",
       " 'processing',\n",
       " 'engineer',\n",
       " 'I',\n",
       " 'am',\n",
       " 'a',\n",
       " 'data',\n",
       " 'analyst',\n",
       " 'I',\n",
       " 'am',\n",
       " 'a',\n",
       " 'data',\n",
       " 'engineer',\n",
       " 'i',\n",
       " 'am',\n",
       " 'Ganesh',\n",
       " 'Agrahari']"
      ]
     },
     "execution_count": 3,
     "metadata": {},
     "output_type": "execute_result"
    }
   ],
   "source": [
    "w = word_tokenize(X)\n",
    "w"
   ]
  },
  {
   "cell_type": "code",
   "execution_count": 4,
   "metadata": {},
   "outputs": [],
   "source": [
    "from nltk.collocations import BigramCollocationFinder, TrigramCollocationFinder, ngrams"
   ]
  },
  {
   "cell_type": "code",
   "execution_count": 5,
   "metadata": {},
   "outputs": [],
   "source": [
    "b = BigramCollocationFinder.from_words(w)\n",
    "t= TrigramCollocationFinder.from_words(w)\n",
    "n= ngrams(w, 4)"
   ]
  },
  {
   "cell_type": "code",
   "execution_count": 6,
   "metadata": {},
   "outputs": [
    {
     "name": "stdout",
     "output_type": "stream",
     "text": [
      "('I', 'am', 'Ganesh', 'Agrhari')\n",
      "('am', 'Ganesh', 'Agrhari', 'I')\n",
      "('Ganesh', 'Agrhari', 'I', 'am')\n",
      "('Agrhari', 'I', 'am', 'a')\n",
      "('I', 'am', 'a', 'data')\n",
      "('am', 'a', 'data', 'scientist')\n",
      "('a', 'data', 'scientist', 'and')\n",
      "('data', 'scientist', 'and', 'artificial')\n",
      "('scientist', 'and', 'artificial', 'intelligence')\n",
      "('and', 'artificial', 'intelligence', 'engineer')\n",
      "('artificial', 'intelligence', 'engineer', 'I')\n",
      "('intelligence', 'engineer', 'I', 'am')\n",
      "('engineer', 'I', 'am', 'a')\n",
      "('I', 'am', 'a', 'python')\n",
      "('am', 'a', 'python', 'developer')\n",
      "('a', 'python', 'developer', 'I')\n",
      "('python', 'developer', 'I', 'am')\n",
      "('developer', 'I', 'am', 'a')\n",
      "('I', 'am', 'a', 'machine')\n",
      "('am', 'a', 'machine', 'learning')\n",
      "('a', 'machine', 'learning', 'engineer')\n",
      "('machine', 'learning', 'engineer', 'I')\n",
      "('learning', 'engineer', 'I', 'am')\n",
      "('engineer', 'I', 'am', 'a')\n",
      "('I', 'am', 'a', 'deep')\n",
      "('am', 'a', 'deep', 'learning')\n",
      "('a', 'deep', 'learning', 'engineer')\n",
      "('deep', 'learning', 'engineer', 'I')\n",
      "('learning', 'engineer', 'I', 'am')\n",
      "('engineer', 'I', 'am', 'a')\n",
      "('I', 'am', 'a', 'computer')\n",
      "('am', 'a', 'computer', 'vision')\n",
      "('a', 'computer', 'vision', 'engineer')\n",
      "('computer', 'vision', 'engineer', 'I')\n",
      "('vision', 'engineer', 'I', 'am')\n",
      "('engineer', 'I', 'am', 'a')\n",
      "('I', 'am', 'a', 'natural')\n",
      "('am', 'a', 'natural', 'language')\n",
      "('a', 'natural', 'language', 'processing')\n",
      "('natural', 'language', 'processing', 'engineer')\n",
      "('language', 'processing', 'engineer', 'I')\n",
      "('processing', 'engineer', 'I', 'am')\n",
      "('engineer', 'I', 'am', 'a')\n",
      "('I', 'am', 'a', 'data')\n",
      "('am', 'a', 'data', 'analyst')\n",
      "('a', 'data', 'analyst', 'I')\n",
      "('data', 'analyst', 'I', 'am')\n",
      "('analyst', 'I', 'am', 'a')\n",
      "('I', 'am', 'a', 'data')\n",
      "('am', 'a', 'data', 'engineer')\n",
      "('a', 'data', 'engineer', 'i')\n",
      "('data', 'engineer', 'i', 'am')\n",
      "('engineer', 'i', 'am', 'Ganesh')\n",
      "('i', 'am', 'Ganesh', 'Agrahari')\n"
     ]
    }
   ],
   "source": [
    "\n",
    "#b.ngram_fd\n",
    "t.ngram_fd\n",
    "for i in n:\n",
    "    print(i)"
   ]
  }
 ],
 "metadata": {
  "kernelspec": {
   "display_name": "Python 3",
   "language": "python",
   "name": "python3"
  },
  "language_info": {
   "codemirror_mode": {
    "name": "ipython",
    "version": 3
   },
   "file_extension": ".py",
   "mimetype": "text/x-python",
   "name": "python",
   "nbconvert_exporter": "python",
   "pygments_lexer": "ipython3",
   "version": "3.12.2"
  }
 },
 "nbformat": 4,
 "nbformat_minor": 2
}
