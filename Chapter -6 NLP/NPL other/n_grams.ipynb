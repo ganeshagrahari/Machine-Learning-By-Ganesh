{
 "cells": [
  {
   "cell_type": "markdown",
   "metadata": {},
   "source": [
    "# N grams "
   ]
  },
  {
   "cell_type": "code",
   "execution_count": 5,
   "metadata": {},
   "outputs": [],
   "source": [
    "X=\" I am Ganesh Agrhari I am a data scientist and artificial intelligence engineer I am a python developer I am a machine learning engineer I am a deep learning engineer I am a computer vision engineer I am a natural language processing engineer I am a data analyst I am a data engineer i am Ganesh Agrahari\" "
   ]
  },
  {
   "cell_type": "code",
   "execution_count": 6,
   "metadata": {},
   "outputs": [],
   "source": [
    "from nltk.tokenize import word_tokenize"
   ]
  },
  {
   "cell_type": "code",
   "execution_count": 7,
   "metadata": {},
   "outputs": [
    {
     "data": {
      "text/plain": [
       "['I',\n",
       " 'am',\n",
       " 'Ganesh',\n",
       " 'Agrhari',\n",
       " 'I',\n",
       " 'am',\n",
       " 'a',\n",
       " 'data',\n",
       " 'scientist',\n",
       " 'and',\n",
       " 'artificial',\n",
       " 'intelligence',\n",
       " 'engineer',\n",
       " 'I',\n",
       " 'am',\n",
       " 'a',\n",
       " 'python',\n",
       " 'developer',\n",
       " 'I',\n",
       " 'am',\n",
       " 'a',\n",
       " 'machine',\n",
       " 'learning',\n",
       " 'engineer',\n",
       " 'I',\n",
       " 'am',\n",
       " 'a',\n",
       " 'deep',\n",
       " 'learning',\n",
       " 'engineer',\n",
       " 'I',\n",
       " 'am',\n",
       " 'a',\n",
       " 'computer',\n",
       " 'vision',\n",
       " 'engineer',\n",
       " 'I',\n",
       " 'am',\n",
       " 'a',\n",
       " 'natural',\n",
       " 'language',\n",
       " 'processing',\n",
       " 'engineer',\n",
       " 'I',\n",
       " 'am',\n",
       " 'a',\n",
       " 'data',\n",
       " 'analyst',\n",
       " 'I',\n",
       " 'am',\n",
       " 'a',\n",
       " 'data',\n",
       " 'engineer',\n",
       " 'i',\n",
       " 'am',\n",
       " 'Ganesh',\n",
       " 'Agrahari']"
      ]
     },
     "execution_count": 7,
     "metadata": {},
     "output_type": "execute_result"
    }
   ],
   "source": [
    "w = word_tokenize(X)\n",
    "w"
   ]
  },
  {
   "cell_type": "code",
   "execution_count": 11,
   "metadata": {},
   "outputs": [],
   "source": [
    "from nltk.collocations import BigramCollocationFinder, TrigramCollocationFinder, ngrams"
   ]
  },
  {
   "cell_type": "code",
   "execution_count": null,
   "metadata": {},
   "outputs": [],
   "source": [
    "b = BigramCollocationFinder.from_words(w)\n",
    "t= TrigramCollocationFinder.from_words(w)\n",
    "n= ngrams(w, 3)"
   ]
  },
  {
   "cell_type": "code",
   "execution_count": 18,
   "metadata": {},
   "outputs": [
    {
     "name": "stdout",
     "output_type": "stream",
     "text": [
      "('I',)\n",
      "('am',)\n",
      "('Ganesh',)\n",
      "('Agrhari',)\n",
      "('I',)\n",
      "('am',)\n",
      "('a',)\n",
      "('data',)\n",
      "('scientist',)\n",
      "('and',)\n",
      "('artificial',)\n",
      "('intelligence',)\n",
      "('engineer',)\n",
      "('I',)\n",
      "('am',)\n",
      "('a',)\n",
      "('python',)\n",
      "('developer',)\n",
      "('I',)\n",
      "('am',)\n",
      "('a',)\n",
      "('machine',)\n",
      "('learning',)\n",
      "('engineer',)\n",
      "('I',)\n",
      "('am',)\n",
      "('a',)\n",
      "('deep',)\n",
      "('learning',)\n",
      "('engineer',)\n",
      "('I',)\n",
      "('am',)\n",
      "('a',)\n",
      "('computer',)\n",
      "('vision',)\n",
      "('engineer',)\n",
      "('I',)\n",
      "('am',)\n",
      "('a',)\n",
      "('natural',)\n",
      "('language',)\n",
      "('processing',)\n",
      "('engineer',)\n",
      "('I',)\n",
      "('am',)\n",
      "('a',)\n",
      "('data',)\n",
      "('analyst',)\n",
      "('I',)\n",
      "('am',)\n",
      "('a',)\n",
      "('data',)\n",
      "('engineer',)\n",
      "('i',)\n",
      "('am',)\n",
      "('Ganesh',)\n",
      "('Agrahari',)\n"
     ]
    }
   ],
   "source": [
    "\n",
    "#b.ngram_fd\n",
    "t.ngram_fd\n",
    "for i in n:\n",
    "    print(i)"
   ]
  }
 ],
 "metadata": {
  "kernelspec": {
   "display_name": "Python 3",
   "language": "python",
   "name": "python3"
  },
  "language_info": {
   "codemirror_mode": {
    "name": "ipython",
    "version": 3
   },
   "file_extension": ".py",
   "mimetype": "text/x-python",
   "name": "python",
   "nbconvert_exporter": "python",
   "pygments_lexer": "ipython3",
   "version": "3.12.2"
  }
 },
 "nbformat": 4,
 "nbformat_minor": 2
}
